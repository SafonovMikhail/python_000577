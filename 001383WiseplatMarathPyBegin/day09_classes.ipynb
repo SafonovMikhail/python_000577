{
 "cells": [
  {
   "cell_type": "code",
   "execution_count": 3,
   "metadata": {},
   "outputs": [
    {
     "name": "stdout",
     "output_type": "stream",
     "text": [
      "8 8\n"
     ]
    }
   ],
   "source": [
    "class Auto():  # храним количество колес машины\n",
    "    pass  # pass: пока просто создали класс, ничего в нем не пишем.\n",
    "\n",
    "\n",
    "my_auto1 = Auto()  # создали новый объект, в который записали экземпляр класса Auto()\n",
    "my_auto1.wheels = 4  # в объекте создаем переменную, количество колес\n",
    "my_auto2 = my_auto1 # создаем второй экземпляр класса, присваивание - ссылка на один и тот же класс\n",
    "my_auto2.wheels = 8\n",
    "\n",
    "print(my_auto1.wheels,my_auto2.wheels)\n"
   ]
  },
  {
   "cell_type": "code",
   "execution_count": 5,
   "metadata": {},
   "outputs": [
    {
     "name": "stdout",
     "output_type": "stream",
     "text": [
      "4 8\n"
     ]
    }
   ],
   "source": [
    "import copy\n",
    "class Auto():  \n",
    "    pass  \n",
    "\n",
    "\n",
    "my_auto1 = Auto()  \n",
    "my_auto1.wheels = 4  \n",
    "my_auto2 = copy.copy(my_auto1) \n",
    "my_auto2.wheels = 8\n",
    "\n",
    "print(my_auto1.wheels,my_auto2.wheels)"
   ]
  },
  {
   "cell_type": "code",
   "execution_count": null,
   "metadata": {},
   "outputs": [],
   "source": []
  }
 ],
 "metadata": {
  "kernelspec": {
   "display_name": "Python 3",
   "language": "python",
   "name": "python3"
  },
  "language_info": {
   "codemirror_mode": {
    "name": "ipython",
    "version": 3
   },
   "file_extension": ".py",
   "mimetype": "text/x-python",
   "name": "python",
   "nbconvert_exporter": "python",
   "pygments_lexer": "ipython3",
   "version": "3.7.3"
  }
 },
 "nbformat": 4,
 "nbformat_minor": 4
}
